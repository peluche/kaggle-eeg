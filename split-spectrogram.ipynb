{
 "cells": [
  {
   "cell_type": "markdown",
   "metadata": {},
   "source": [
    "# preprocess data\n",
    "split the eeg into small chunks"
   ]
  },
  {
   "cell_type": "code",
   "execution_count": 4,
   "metadata": {},
   "outputs": [],
   "source": [
    "from tqdm.notebook import tqdm\n",
    "import pandas as pd\n",
    "import torch as t\n",
    "import matplotlib.pyplot as plt"
   ]
  },
  {
   "cell_type": "code",
   "execution_count": 5,
   "metadata": {},
   "outputs": [],
   "source": [
    "OUT_DIR = './spectrograms/'\n",
    "BASE_PATH = './hms-harmful-brain-activity-classification/'\n",
    "DATA_PATH = './hms-harmful-brain-activity-classification/train_spectrograms/'"
   ]
  },
  {
   "cell_type": "code",
   "execution_count": 13,
   "metadata": {},
   "outputs": [
    {
     "data": {
      "application/vnd.jupyter.widget-view+json": {
       "model_id": "1926262dcb2d4cf0849a873860ce1887",
       "version_major": 2,
       "version_minor": 0
      },
      "text/plain": [
       "  0%|          | 0/11138 [00:00<?, ?it/s]"
      ]
     },
     "metadata": {},
     "output_type": "display_data"
    },
    {
     "name": "stdout",
     "output_type": "stream",
     "text": [
      "./spectrograms/353733_0.pt\n",
      "./spectrograms/353733_1.pt\n",
      "./spectrograms/353733_2.pt\n",
      "./spectrograms/353733_3.pt\n",
      "./spectrograms/353733_4.pt\n",
      "./spectrograms/353733_5.pt\n",
      "./spectrograms/353733_6.pt\n",
      "./spectrograms/353733_7.pt\n",
      "./spectrograms/353733_8.pt\n"
     ]
    }
   ],
   "source": [
    "def preprocess(df):\n",
    "    duration = 600\n",
    "    prefixes = [\"LL\",\"RL\",\"RP\",\"LP\"]\n",
    "    for spectrogram_id, group in tqdm(df.groupby('spectrogram_id')):\n",
    "        parquet_file = f'{DATA_PATH}{spectrogram_id}.parquet'\n",
    "        raw_spectrogram = pd.read_parquet(parquet_file)\n",
    "        for _, row in group.iterrows():\n",
    "            spectrogram_sub_id = row['spectrogram_sub_id']\n",
    "            offset = int(row['spectrogram_label_offset_seconds'])\n",
    "            spectrogram = raw_spectrogram.loc[(raw_spectrogram.time >= offset) & (raw_spectrogram.time < offset + duration)]\n",
    "            # offset = int(row['eeg_label_offset_seconds'] * sample_rate)\n",
    "            # eeg = raw_eeg.iloc[offset:offset + duration]\n",
    "            spectrogram = spectrogram.ffill(axis=0).fillna(0)\n",
    "            traces = []\n",
    "            for prefix in prefixes:\n",
    "                df = spectrogram.filter(regex=f'^{prefix}', axis=1)\n",
    "                traces.append(t.tensor(df.values))\n",
    "            data = t.stack(traces)\n",
    "            # print(f'{data.shape=}')\n",
    "            # for trace_id in range(4):\n",
    "            #     plt.imshow(data[trace_id].permute(1, 0))\n",
    "            #     plt.show()\n",
    "            t.save(data, f'{OUT_DIR}{spectrogram_id}_{spectrogram_sub_id}.pt')\n",
    "\n",
    "df = pd.read_csv(f'{BASE_PATH}train.csv')\n",
    "preprocess(df)"
   ]
  }
 ],
 "metadata": {
  "kernelspec": {
   "display_name": "Python 3",
   "language": "python",
   "name": "python3"
  },
  "language_info": {
   "codemirror_mode": {
    "name": "ipython",
    "version": 3
   },
   "file_extension": ".py",
   "mimetype": "text/x-python",
   "name": "python",
   "nbconvert_exporter": "python",
   "pygments_lexer": "ipython3",
   "version": "3.10.12"
  }
 },
 "nbformat": 4,
 "nbformat_minor": 2
}
