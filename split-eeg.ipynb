{
 "cells": [
  {
   "cell_type": "markdown",
   "metadata": {},
   "source": [
    "# preprocess data\n",
    "split the eeg into small chunks"
   ]
  },
  {
   "cell_type": "code",
   "execution_count": 1,
   "metadata": {},
   "outputs": [],
   "source": [
    "from tqdm.notebook import tqdm\n",
    "from scipy.signal import butter, lfilter\n",
    "import pandas as pd\n",
    "import numpy as np\n",
    "import torch as t"
   ]
  },
  {
   "cell_type": "code",
   "execution_count": 2,
   "metadata": {},
   "outputs": [],
   "source": [
    "OUT_DIR = './eeg-filtered/'\n",
    "BASE_PATH = './hms-harmful-brain-activity-classification/'\n",
    "DATA_PATH = './hms-harmful-brain-activity-classification/train_eegs/'"
   ]
  },
  {
   "cell_type": "code",
   "execution_count": 3,
   "metadata": {},
   "outputs": [],
   "source": [
    "def normalize_signals(data):\n",
    "    mean = data.mean(axis=0, keepdims=True)\n",
    "    std = data.std(axis=0, keepdims=True)\n",
    "    std_adjusted = np.where(std > 1e-10, std, 1)\n",
    "    return (data - mean) / std_adjusted\n",
    "\n",
    "def butter_bandpass_filter(data, lowcut=1. , highcut =40., fs=200, order=6):\n",
    "    b, a = butter(order, [lowcut / (0.5 * fs), highcut / (0.5 * fs)], btype='band')\n",
    "    return lfilter(b, a, data)\n",
    "\n",
    "def filters(data):\n",
    "    # TODO: clip ?\n",
    "    # TODO: log scale ?\n",
    "    data = normalize_signals(data)\n",
    "    data = butter_bandpass_filter(data)\n",
    "    return data"
   ]
  },
  {
   "cell_type": "code",
   "execution_count": 4,
   "metadata": {},
   "outputs": [
    {
     "data": {
      "application/vnd.jupyter.widget-view+json": {
       "model_id": "ebe551dcf2e74bf689da876d6861aec5",
       "version_major": 2,
       "version_minor": 0
      },
      "text/plain": [
       "  0%|          | 0/17089 [00:00<?, ?it/s]"
      ]
     },
     "metadata": {},
     "output_type": "display_data"
    }
   ],
   "source": [
    "def preprocess(df):\n",
    "    sample_rate = 200\n",
    "    duration = 10_000\n",
    "    for eeg_id, group in tqdm(df.groupby('eeg_id')):\n",
    "        parquet_file = f'{DATA_PATH}{eeg_id}.parquet'\n",
    "        raw_eeg = pd.read_parquet(parquet_file)\n",
    "        for _, row in group.iterrows():\n",
    "            eeg_sub_id = row['eeg_sub_id']\n",
    "            offset = int(row['eeg_label_offset_seconds'] * sample_rate)\n",
    "            eeg = raw_eeg.iloc[offset:offset + duration]\n",
    "            eeg = eeg.ffill(axis=0).fillna(0)\n",
    "            filtered_eeg = filters(eeg.values)\n",
    "            data = t.tensor(filtered_eeg).float()\n",
    "            t.save(data, f'{OUT_DIR}{eeg_id}_{eeg_sub_id}.pt')\n",
    "\n",
    "df = pd.read_csv(f'{BASE_PATH}train.csv')\n",
    "preprocess(df)"
   ]
  }
 ],
 "metadata": {
  "kernelspec": {
   "display_name": "Python 3",
   "language": "python",
   "name": "python3"
  },
  "language_info": {
   "codemirror_mode": {
    "name": "ipython",
    "version": 3
   },
   "file_extension": ".py",
   "mimetype": "text/x-python",
   "name": "python",
   "nbconvert_exporter": "python",
   "pygments_lexer": "ipython3",
   "version": "3.10.12"
  }
 },
 "nbformat": 4,
 "nbformat_minor": 2
}
