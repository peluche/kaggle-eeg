{
 "cells": [
  {
   "cell_type": "markdown",
   "metadata": {},
   "source": [
    "# preprocess data\n",
    "split the eeg into small chunks"
   ]
  },
  {
   "cell_type": "code",
   "execution_count": 23,
   "metadata": {},
   "outputs": [],
   "source": [
    "from tqdm.notebook import tqdm\n",
    "from scipy.signal import butter, lfilter, sosfilt, iirnotch\n",
    "import pandas as pd\n",
    "import numpy as np\n",
    "import torch as t\n",
    "\n",
    "import matplotlib.pyplot as plt"
   ]
  },
  {
   "cell_type": "code",
   "execution_count": 24,
   "metadata": {},
   "outputs": [],
   "source": [
    "OUT_DIR = './eeg-band-1-70-notch-60/'\n",
    "BASE_PATH = './hms-harmful-brain-activity-classification/'\n",
    "DATA_PATH = './hms-harmful-brain-activity-classification/train_eegs/'"
   ]
  },
  {
   "cell_type": "code",
   "execution_count": 25,
   "metadata": {},
   "outputs": [],
   "source": [
    "# data has shape (sequence_len=10000, probes=20)\n",
    "\n",
    "def clip(data, bound=300):\n",
    "    return np.clip(data, -bound, bound)\n",
    "\n",
    "def robust_norm(data):\n",
    "    median = np.median(data, axis=0)\n",
    "    q75, q25 = np.percentile(data, [75 ,25], axis=0)\n",
    "    iqr = q75 - q25\n",
    "    iqr[iqr < 1e-6] = 1e-6 # numerical stability\n",
    "    return (data - median) / iqr\n",
    "\n",
    "def band_filter(data, low=1, high=70, fs=200, order=4):\n",
    "    sos = butter(N=order, Wn=[low, high], btype='bandpass', fs=fs, output='sos')\n",
    "    return sosfilt(sos, data, axis=0)\n",
    "\n",
    "def notch_filter(data, notch_freq=60, Q=30, fs=200):\n",
    "    b_notch, a_notch = iirnotch(notch_freq, Q, fs)\n",
    "    return lfilter(b_notch, a_notch, data, axis=0)\n",
    "\n",
    "# def logify(data):\n",
    "#     log_data = np.log1p(np.abs(data))\n",
    "#     log_data[data < 0] *= -1\n",
    "#     return log_data\n",
    "\n",
    "# def normalize_signals(data):\n",
    "#     mean = data.mean(axis=0, keepdims=True)\n",
    "#     std = data.std(axis=0, keepdims=True)\n",
    "#     std_adjusted = np.where(std > 1e-10, std, 1) # numerical stability\n",
    "#     return (data - mean) / std_adjusted\n",
    "\n",
    "# def butter_bandpass_filter(data, lowcut=1. , highcut =40., fs=200, order=6):\n",
    "#     b, a = butter(order, [lowcut / (0.5 * fs), highcut / (0.5 * fs)], btype='band')\n",
    "#     return lfilter(b, a, data)\n",
    "\n",
    "def filters(data):\n",
    "    data = band_filter(data)\n",
    "    data = notch_filter(data)\n",
    "    # data = robust_norm(data)\n",
    "    return data"
   ]
  },
  {
   "cell_type": "code",
   "execution_count": 26,
   "metadata": {},
   "outputs": [
    {
     "data": {
      "application/vnd.jupyter.widget-view+json": {
       "model_id": "cafb4c1b53bb400980bafb92a3ed5f78",
       "version_major": 2,
       "version_minor": 0
      },
      "text/plain": [
       "  0%|          | 0/17089 [00:00<?, ?it/s]"
      ]
     },
     "metadata": {},
     "output_type": "display_data"
    }
   ],
   "source": [
    "def preprocess(df):\n",
    "    sample_rate = 200\n",
    "    duration = 10_000\n",
    "    for eeg_id, group in tqdm(df.groupby('eeg_id')):\n",
    "        parquet_file = f'{DATA_PATH}{eeg_id}.parquet'\n",
    "        raw_eeg = pd.read_parquet(parquet_file)\n",
    "        for _, row in group.iterrows():\n",
    "            eeg_sub_id = row['eeg_sub_id']\n",
    "            offset = int(row['eeg_label_offset_seconds'] * sample_rate)\n",
    "            eeg = raw_eeg.iloc[offset:offset + duration]\n",
    "            eeg = eeg.ffill(axis=0).fillna(0)\n",
    "            filtered_eeg = filters(eeg.values)\n",
    "            data = t.tensor(filtered_eeg).float()\n",
    "            # plt.plot(filtered_eeg[:1000, 0] - filtered_eeg[:1000, 1])\n",
    "            # plt.show()\n",
    "            # plt.plot(filtered_eeg[:1000, :19])\n",
    "            # plt.show()\n",
    "            # plt.plot(filtered_eeg[:1000, :18] - filtered_eeg[:1000, 1:19])\n",
    "            # plt.show()\n",
    "            t.save(data, f'{OUT_DIR}{eeg_id}_{eeg_sub_id}.pt')\n",
    "df = pd.read_csv(f'{BASE_PATH}train.csv')\n",
    "preprocess(df)"
   ]
  },
  {
   "cell_type": "code",
   "execution_count": 27,
   "metadata": {},
   "outputs": [
    {
     "data": {
      "text/plain": [
       "0.15"
      ]
     },
     "execution_count": 27,
     "metadata": {},
     "output_type": "execute_result"
    }
   ],
   "source": [
    "import random\n",
    "random.choice([0.01, 0.05, 0.1, 0.15, 0.2, 0.3])"
   ]
  },
  {
   "cell_type": "code",
   "execution_count": 28,
   "metadata": {},
   "outputs": [
    {
     "name": "stdout",
     "output_type": "stream",
     "text": [
      "tensor([2.4434e-03, 9.9737e-01, 4.7643e-05, 1.4308e-04])\n"
     ]
    }
   ],
   "source": [
    "def soft_rounding(input_tensor, threshold=0.01, steepness=10):\n",
    "    # Apply a sigmoid function to softly threshold values close to 0\n",
    "    # The steepness parameter controls how sharp the transition is\n",
    "    # Values much larger than the threshold will be near 1 after this, and those much smaller will be near 0\n",
    "    weight = t.sigmoid(steepness * (input_tensor - threshold))\n",
    "\n",
    "    # Apply the weight, values close to 0 get diminished\n",
    "    adjusted_tensor = input_tensor * weight\n",
    "\n",
    "    # Renormalize to ensure the sum is 1\n",
    "    normalized_tensor = adjusted_tensor / adjusted_tensor.sum()\n",
    "\n",
    "    return normalized_tensor\n",
    "\n",
    "# Example usage\n",
    "input_tensor = t.tensor([0.005, 0.995, 0.0001, 0.0003], dtype=t.float32)\n",
    "output_tensor = soft_rounding(input_tensor)\n",
    "print(output_tensor)\n"
   ]
  },
  {
   "cell_type": "code",
   "execution_count": 29,
   "metadata": {},
   "outputs": [
    {
     "name": "stdout",
     "output_type": "stream",
     "text": [
      "tensor([[0.9970],\n",
      "        [0.9100]])\n"
     ]
    },
    {
     "data": {
      "text/plain": [
       "tensor([[0.0000, 0.0000, 1.0000, 0.0000],\n",
       "        [0.0000, 0.0220, 0.4945, 0.4835]])"
      ]
     },
     "execution_count": 29,
     "metadata": {},
     "output_type": "execute_result"
    }
   ],
   "source": [
    "def round_zero(res, threshold=1e-2):\n",
    "    res[res < threshold] = 0\n",
    "    print(res.sum(dim=-1, keepdim=True))\n",
    "    res = res / res.sum(dim=-1, keepdim=True)\n",
    "    return res\n",
    "\n",
    "res = t.tensor([\n",
    "    [0.0001, 0.002, 0.997, 0.0001],\n",
    "    [0.0001, 0.02, 0.45, 0.44]\n",
    "])\n",
    "\n",
    "round_zero(res)"
   ]
  }
 ],
 "metadata": {
  "kernelspec": {
   "display_name": "Python 3",
   "language": "python",
   "name": "python3"
  },
  "language_info": {
   "codemirror_mode": {
    "name": "ipython",
    "version": 3
   },
   "file_extension": ".py",
   "mimetype": "text/x-python",
   "name": "python",
   "nbconvert_exporter": "python",
   "pygments_lexer": "ipython3",
   "version": "3.10.12"
  }
 },
 "nbformat": 4,
 "nbformat_minor": 2
}
